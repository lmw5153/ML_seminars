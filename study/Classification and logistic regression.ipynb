{
 "cells": [
  {
   "cell_type": "markdown",
   "id": "a323b7bb",
   "metadata": {},
   "source": [
    "# chapter 2"
   ]
  },
  {
   "cell_type": "markdown",
   "id": "95796eb4",
   "metadata": {},
   "source": [
    "---"
   ]
  },
  {
   "cell_type": "code",
   "execution_count": 417,
   "id": "7fb5fa5e",
   "metadata": {},
   "outputs": [],
   "source": [
    "import numpy as np\n",
    "import matplotlib.pyplot as plt\n",
    "import pandas as pd"
   ]
  },
  {
   "cell_type": "markdown",
   "id": "ceb0e1db",
   "metadata": {},
   "source": [
    "---"
   ]
  },
  {
   "cell_type": "markdown",
   "id": "82068b2f",
   "metadata": {},
   "source": [
    "### `-` logistic funtions"
   ]
  },
  {
   "cell_type": "markdown",
   "id": "51c801b2",
   "metadata": {},
   "source": [
    "입력 $\\beta$값 추정 : 최대우도, cross entropy\n",
    "\n",
    "출력 : 시그모이드함수, 출력함수 \n"
   ]
  },
  {
   "cell_type": "markdown",
   "id": "f002c7ed",
   "metadata": {},
   "source": [
    "- binary한 분류 문제에서 y(label)을 0, 1로 취할 수 있을 때\n",
    "- 0 = nagative class , 1 = positive calss"
   ]
  },
  {
   "cell_type": "markdown",
   "id": "16e82781",
   "metadata": {},
   "source": [
    "$$\n",
    "h_{\\theta}(x) = g(\\theta^Tx) = \\frac{1}{1+e^{-\\theta^Tx}}\n",
    "$$"
   ]
  },
  {
   "cell_type": "markdown",
   "id": "b293fbef",
   "metadata": {},
   "source": [
    "위와 같이 모형을 가정할 수 있다"
   ]
  },
  {
   "cell_type": "markdown",
   "id": "b24a7010",
   "metadata": {},
   "source": [
    "$$\n",
    "g(x) = \\frac{1}{1+e^-x}\n",
    "$$"
   ]
  },
  {
   "cell_type": "markdown",
   "id": "e988b329",
   "metadata": {},
   "source": [
    "- sigmoid function\n",
    "- logistic function"
   ]
  },
  {
   "cell_type": "markdown",
   "id": "c1c08584",
   "metadata": {},
   "source": [
    "`-` sigmoid function plot showing $g(x)$"
   ]
  },
  {
   "cell_type": "code",
   "execution_count": 602,
   "id": "345dce34",
   "metadata": {},
   "outputs": [
    {
     "data": {
      "text/plain": [
       "[<matplotlib.lines.Line2D at 0x17eddd791f0>]"
      ]
     },
     "execution_count": 602,
     "metadata": {},
     "output_type": "execute_result"
    },
    {
     "data": {
      "image/png": "[encoded data removed]",
      "text/plain": [
       "<Figure size 640x480 with 1 Axes>"
      ]
     },
     "metadata": {},
     "output_type": "display_data"
    }
   ],
   "source": [
    "# 시그모이드 함수 정의\n",
    "def sigmoid(x):\n",
    "    return 1/(1+np.exp(-x))\n",
    "\n",
    "x = np.linspace(-10,10,100)\n",
    "y = sigmoid(x)\n",
    "plt.plot(x,y)\n"
   ]
  },
  {
   "cell_type": "markdown",
   "id": "cf56bb72",
   "metadata": {},
   "source": [
    "$g(x)$는 1또는 0으로 수렴하며 $h(x)$는 0과 1사이로 경계가 되있다.\n",
    "또한 $x_0 = 1$로 두며, 밑과 이루어진다"
   ]
  },
  {
   "cell_type": "markdown",
   "id": "37f48ba0",
   "metadata": {},
   "source": [
    "`-` logit 선형결합"
   ]
  },
  {
   "cell_type": "markdown",
   "id": "4947312c",
   "metadata": {},
   "source": [
    "$$\n",
    "\\theta^Tx = \\theta_0 +\\sum_{j=1}^{d} \\theta_jx_j\n",
    "$$"
   ]
  },
  {
   "cell_type": "markdown",
   "id": "d6eec01c",
   "metadata": {},
   "source": [
    "`-` sigmoid function 도함수 유도"
   ]
  },
  {
   "cell_type": "markdown",
   "id": "0ca574fb",
   "metadata": {},
   "source": [
    "$$\n",
    "g'(z)\n",
    "= g(z)(1-g(z))\n",
    "$$"
   ]
  },
  {
   "cell_type": "markdown",
   "id": "bd34d416",
   "metadata": {},
   "source": [
    "$$\n",
    "= \\frac{d}{dz}(1+e^{-z})^{-1} = (-1)\\frac{1}{(1+e^{-z})^2}\\frac{d}{dz}(1+e^{-z})\n",
    "\\\\\n",
    "= (-1)\\frac{1}{(1+e^{-z})^2}(0+e^{-z})\\frac{d}{dz}(-z)\n",
    "\\\\\n",
    "= (-1)\\frac{1}{(1+e^{-z})^2}(e^{-z})(-1) = \\frac{e^{-z}}{(1+e^{-x})^2}\n",
    "\\\\\n",
    " = \\frac{1+e^{-z}-1}{(1+e^{-z})^2} = \\frac{1+e^{-z}}{(1+e^{-x})^2} - \\frac{1}{(1+e^{-z})^2}\n",
    "\\\\\n",
    "= \\frac{1}{(1+e^{-z})} - \\frac{1}{(1+e^{-z})^2}\n",
    "\\\\ \n",
    "\\therefore g'(z)= g(z)(1-g(z))\n",
    "$$"
   ]
  },
  {
   "cell_type": "markdown",
   "id": "b465b850",
   "metadata": {},
   "source": [
    "---"
   ]
  },
  {
   "cell_type": "markdown",
   "id": "3677af40",
   "metadata": {},
   "source": [
    "`-` 지수함수의 합성 성질\n",
    "$$\n",
    "y = e^{f(x)}\n",
    "\\\\\n",
    "y'= e^{f(x)}f'(x) \n",
    "$$"
   ]
  },
  {
   "cell_type": "markdown",
   "id": "9404322f",
   "metadata": {},
   "source": [
    "`-` 미분 성질"
   ]
  },
  {
   "cell_type": "markdown",
   "id": "7aa7a0b3",
   "metadata": {},
   "source": [
    "$$\n",
    "\\frac{d}{dx} * \\frac{1}{f(x)} = \n",
    "\\frac{f'(x)}{f(x)^2}\n",
    "$$"
   ]
  },
  {
   "cell_type": "markdown",
   "id": "756342bb",
   "metadata": {},
   "source": [
    "---"
   ]
  },
  {
   "cell_type": "markdown",
   "id": "39f23b16",
   "metadata": {},
   "source": [
    "`-` how do we fit $\\theta$ for it?\n",
    "\n",
    "- maximum like_lihood estimator\n",
    "- 활률적 가정을 부여함\n",
    "- 최대우도법을 통해 model fit"
   ]
  },
  {
   "cell_type": "markdown",
   "id": "ec3821c1",
   "metadata": {},
   "source": [
    "`-` probabilstic assumptions\n",
    "\n",
    "$$\n",
    "P(y=1|x;\\theta) = h_\\theta(x) \\\\\n",
    "P(y=0|x;\\theta) = 1 - h_\\theta(x) \\\\\n",
    "$$\n",
    "`-`\n",
    "$$\n",
    "P(y|x;\\theta) = h_\\theta(x)^y(1-h_\\theta(x)^{1-y})\n",
    "$$"
   ]
  },
  {
   "cell_type": "markdown",
   "id": "65a2b0fd",
   "metadata": {},
   "source": [
    "`-` the parameters\n",
    "\n",
    "$$\n",
    "L(\\theta) = P(\\overset{\\to}{y}|X;\\theta)\n",
    "\\\\\n",
    "= \\prod_{i=1}^np(y^i|x^i;\\theta) \n",
    "\\\\\n",
    "= \\prod_{i=1}^nh_\\theta(x^i)^{y^i}(1-h_\\theta(x^i)^{{1-y}^i})\n",
    "$$\n",
    "\n",
    "곱셈이 어려우니 log를 취하자\n",
    "\n",
    "$$\n",
    "logL(\\theta) = \\sum_{i=1}^ny^ilogh(x^i)+(1-y^i)log(1-h(x^i))\n",
    "$$"
   ]
  },
  {
   "cell_type": "markdown",
   "id": "2a07f551",
   "metadata": {},
   "source": [
    "미분을 이용하여 최대값을 찾음\n",
    "\n",
    "$$\n",
    "\\frac{{d}}{{dx}}logL(\\theta|x) = \\sum_{i=1}^n\\frac{{d}}{{dx}}logP(x_i|\\theta)=0\n",
    "$$"
   ]
  },
  {
   "cell_type": "markdown",
   "id": "9e398c0f",
   "metadata": {},
   "source": [
    "다만 미분값이 밑과 같으므로 알고리즘을 구현할 때 밑의 방식으로 기울기를 갱신한다\n",
    "\n",
    "\n",
    "$$\n",
    "\\frac{{d}}{{dx}}logL(\\theta|x) = (y-h_\\theta(x))x_j \n",
    "$$"
   ]
  },
  {
   "cell_type": "markdown",
   "id": "efe9a9fb",
   "metadata": {},
   "source": [
    "`-` 유도식"
   ]
  },
  {
   "cell_type": "markdown",
   "id": "7bb1b211",
   "metadata": {},
   "source": [
    "1.$\\log{g(x)}$의 미분 $\\frac{{1}}{{g(x)}} \\cdot \\frac{{dg(x)}}{{dx}}$\n",
    "\n",
    "2.$\\log{(1-g(x))}$의 미분 $-\\frac{{1}}{{1 - g(x)}} \\cdot \\frac{{d}}{{dx}} g(x)$"
   ]
  },
  {
   "cell_type": "markdown",
   "id": "4e6c33be",
   "metadata": {},
   "source": [
    "$$\n",
    "y \\cdot \\frac{1}{ g(\\theta^Tx)}  \\frac{{\\partial}}{{\\partial\\theta}} g(\\theta^Tx) + (1-y) \\cdot \n",
    "\\frac{1}{(1- g(\\theta^Tx))}\\frac{{\\partial}}{{\\partial\\theta}} (1- g(\\theta^Tx)) \n",
    "\\\\\n",
    "= \\left(y \\cdot \\frac{1}{ g(\\theta^Tx)} - (1-y) \\cdot \n",
    "\\frac{1}{(1- g(\\theta^Tx))} \\right) \\cdot  \\frac{{\\partial}}{{\\partial\\theta}} g(\\theta^Tx)\n",
    "$$"
   ]
  },
  {
   "cell_type": "markdown",
   "id": "b135b8d2",
   "metadata": {},
   "source": [
    "$$\n",
    " \\frac{{d}}{{d\\theta}} g(\\theta^Tx) = g(\\theta^Tx)(1-\\theta^Tx)\\frac{{d}}{{d\\theta}}\\theta^Tx\n",
    "$$"
   ]
  },
  {
   "cell_type": "markdown",
   "id": "07a71c52",
   "metadata": {},
   "source": [
    "$$\n",
    "(y \\cdot( 1-g(\\theta^Tx)) - (1-y) \\cdot \n",
    "g(\\theta^Tx))x =\n",
    "\\\\\n",
    "(y-h_\\theta(x)) \\cdot x\n",
    "$$"
   ]
  },
  {
   "cell_type": "markdown",
   "id": "1f5d5417",
   "metadata": {},
   "source": [
    "---"
   ]
  },
  {
   "cell_type": "markdown",
   "id": "f6608520",
   "metadata": {},
   "source": [
    "`-` gradiant ascent \n",
    "\n",
    "`-`the stochastic gradient ascent rule"
   ]
  },
  {
   "cell_type": "markdown",
   "id": "893fec5b",
   "metadata": {},
   "source": [
    "$$\n",
    "    \\theta := \\theta + \\alpha\\triangledown_{\\theta}logL(\\theta)\n",
    "$$\n",
    "\n",
    "\n",
    "- 목적 함수의 최대값을 찾기 위함\n",
    "\n",
    "- 과정(gpt)\n",
    "    1. 초기값 설정 : 최적화 함수의 시작점 임의 선택\n",
    "    2. 기울기 계산 : 현위치의 함수 기울기 계산, 이를 위해 편미분을 사용\n",
    "    3. 이동 방향 결정 : 기울 계산을 통해 얻은 값에 학습률을 곱한 후 이를 이동방향으로 채택 (학습률 -> 얼마나 많이 이동할지 하이퍼 파라미터)\n",
    "    4. 새 위치 계산 : 현재 위치에 이동 방향을 더하여 새로운 위치 계산\n",
    "    5. 종료 : 일정 반복 횟수, 수렴 조건에 도달할 때까지 위 과정 반복\n",
    "    \n"
   ]
  },
  {
   "cell_type": "markdown",
   "id": "dbd08fc8",
   "metadata": {},
   "source": [
    "`-` the perceptron learning algorithm\n",
    "\n",
    "$$\n",
    "\\theta_j := \\theta_j + \\alpha\n",
    "(y-h_\\theta(x))x_j\n",
    "$$\n",
    "\n",
    "- 임계값(활성화) 함수 g \n",
    "- 다른 알고리즘과 비슷해보이지만 매우 다른 타입의 알고리즘이다.\n",
    "- 의미있는 확률론적 해석을 퍼셉트론의 예측이 주는 것은 어렵고 최대우도법을 통해 이끌어내는 것 또한 어렵다"
   ]
  },
  {
   "cell_type": "markdown",
   "id": "94b59271",
   "metadata": {},
   "source": [
    "![](https://mblogthumb-phinf.pstatic.net/MjAxNzA2MTlfMTA3/MDAxNDk3ODQzMjEwMTE4.jXgcNwRTVRbJEDO6JsHOxtftq_h9VxtCjeuCvDd9nCEg.-cCAbXvpIdBqfpS4DkUmpm339EeH3GO3FgnHr95ytiwg.PNG.samsjang/%EC%BA%A1%EC%B2%98.PNG?type=w2)\n",
    "\n",
    "출처:https://m.blog.naver.com/samsjang/220948258166"
   ]
  },
  {
   "cell_type": "markdown",
   "id": "0af81119",
   "metadata": {},
   "source": [
    "---"
   ]
  },
  {
   "cell_type": "markdown",
   "id": "46bafb63",
   "metadata": {},
   "source": [
    "`-` 구현해보기"
   ]
  },
  {
   "cell_type": "markdown",
   "id": "8c9ae436",
   "metadata": {},
   "source": [
    "러프하게 단계 설명\n",
    "- gradiant upsent\n",
    "- 시그모이드함수로 이진분류"
   ]
  },
  {
   "cell_type": "markdown",
   "id": "a0948aa3",
   "metadata": {},
   "source": [
    "`-` 입력 train"
   ]
  },
  {
   "cell_type": "code",
   "execution_count": 976,
   "id": "d8d41a9e",
   "metadata": {},
   "outputs": [],
   "source": [
    "X = np.array([[0,0],\n",
    "              [0,1],\n",
    "              [1,0],\n",
    "              [1,1]])\n",
    "y = np.array([1,1,0,0])\n"
   ]
  },
  {
   "cell_type": "markdown",
   "id": "1dcc5e5f",
   "metadata": {},
   "source": [
    "- [0,0] , [0,1] $\\rightarrow$ 1\n",
    "- [1,1] , [1,0] $\\rightarrow$ 0"
   ]
  },
  {
   "cell_type": "markdown",
   "id": "83255378",
   "metadata": {},
   "source": [
    "`-` 알고리즘학습과 test "
   ]
  },
  {
   "cell_type": "code",
   "execution_count": 1000,
   "id": "149f501a",
   "metadata": {
    "scrolled": true
   },
   "outputs": [
    {
     "data": {
      "text/plain": [
       "array([ 1.581887, -4.009423,  0.388847])"
      ]
     },
     "execution_count": 1000,
     "metadata": {},
     "output_type": "execute_result"
    }
   ],
   "source": [
    "\n",
    "def sigmoid(x):\n",
    "    return 1 / (1 + np.exp(-x))\n",
    "\n",
    "glist = []\n",
    "re = []\n",
    "def binary_classification(X, y, learning_rate=0.1, max_iterations=100):\n",
    "    # 입력 데이터에 절편을 추가 편향성\n",
    "    X_bias = np.insert(X, 0, 1, axis=1) #4*3\n",
    "    # 파라미터 초기화\n",
    "    theta = np.zeros(X_bias.shape[1]) #3\n",
    "    \n",
    "    for _ in range(max_iterations):\n",
    "        # 선형 결합 계산\n",
    "        z = np.dot(X_bias, theta) # 4\n",
    "        # 시그모이드 함수를 적용하여 예측 확률 계산\n",
    "        y_pred = sigmoid(z) # 입력각 x의 각각의 확률 예측값\n",
    "        re.append(y_pred)\n",
    "        \n",
    "        # 로그 우도 함수를 최대화하는 방향으로 파라미터 업데이트\n",
    "        gradient = np.dot(X_bias.T, y - y_pred) #3*4 * 4\n",
    "        theta += learning_rate * gradient\n",
    "        glist.append(gradient)\n",
    "        \n",
    "    return theta\n",
    "\n",
    "theta = binary_classification(X, y)\n",
    "theta"
   ]
  },
  {
   "cell_type": "code",
   "execution_count": 1001,
   "id": "0b6aea09",
   "metadata": {},
   "outputs": [
    {
     "data": {
      "text/plain": [
       "array([0.829472, 0.1152  , 0.081097, 0.87769 ])"
      ]
     },
     "execution_count": 1001,
     "metadata": {},
     "output_type": "execute_result"
    }
   ],
   "source": [
    "X_test = np.array([[0, 0],\n",
    "                   [1, 1],\n",
    "                   [1,0],\n",
    "                   [0,1]])\n",
    " \n",
    "# 테스트 데이터에 대한 예측\n",
    "X_test_bias = np.insert(X_test, 0, 1, axis=1)\n",
    "y_pred_test = sigmoid(np.dot(X_test_bias, theta))\n",
    "y_pred_test"
   ]
  },
  {
   "cell_type": "markdown",
   "id": "b5d73173",
   "metadata": {},
   "source": [
    "`-` $\\hat{y}$ 의 변화"
   ]
  },
  {
   "cell_type": "code",
   "execution_count": 1002,
   "id": "64a5d2a7",
   "metadata": {
    "scrolled": false
   },
   "outputs": [
    {
     "name": "stdout",
     "output_type": "stream",
     "text": [
      "시작 [0.5 0.5 0.5 0.5]\n",
      "끝 [0.82809  0.876562 0.08185  0.116156]\n"
     ]
    },
    {
     "data": {
      "image/png": "[encoded data removed]",
      "text/plain": [
       "<Figure size 640x480 with 1 Axes>"
      ]
     },
     "metadata": {},
     "output_type": "display_data"
    }
   ],
   "source": [
    "plt.plot(re);\n",
    "print('시작',re[0])\n",
    "print('끝',re[-1])"
   ]
  },
  {
   "cell_type": "code",
   "execution_count": 1007,
   "id": "244f1438",
   "metadata": {
    "scrolled": true
   },
   "outputs": [
    {
     "name": "stdout",
     "output_type": "stream",
     "text": [
      "[0.829472 0.87769  0.07395  0.105393]\n",
      "[0.82809  0.876562 0.08185  0.116156]\n"
     ]
    }
   ],
   "source": [
    "\n",
    "theta2=theta+0.1*gradient\n",
    "print(sigmoid(np.dot(X_bias, theta2)))\n",
    "print(re[-1])"
   ]
  },
  {
   "cell_type": "markdown",
   "id": "79818657",
   "metadata": {},
   "source": [
    "`-` gradient의 변화"
   ]
  },
  {
   "cell_type": "code",
   "execution_count": 1019,
   "id": "f29fc777",
   "metadata": {
    "scrolled": false
   },
   "outputs": [
    {
     "name": "stdout",
     "output_type": "stream",
     "text": [
      "시작 [ 0. -1.  0.]\n",
      "끝 [ 0.097341 -0.198006  0.007282]\n"
     ]
    },
    {
     "data": {
      "image/png": "[encoded data removed]",
      "text/plain": [
       "<Figure size 640x480 with 1 Axes>"
      ]
     },
     "metadata": {},
     "output_type": "display_data"
    }
   ],
   "source": [
    "plt.plot(glist,'.');\n",
    "print('시작',glist[0])\n",
    "print('끝',glist[-1])"
   ]
  },
  {
   "cell_type": "markdown",
   "id": "efa539f8",
   "metadata": {},
   "source": [
    "`-` Q?\n",
    "\n",
    "$\\theta_0$,$\\theta_1$,$\\theta_2$의 추정된 모수라면\n",
    "\n",
    "최종적으로 결정된 모수값은 얼만큼의 영향을 주는 수치라고 봐도 되나요?\n",
    "\n",
    "예를들어 회귀분석에서 추정된 b값이 얼만큼의 변화를 준다는 것처럼"
   ]
  },
  {
   "cell_type": "markdown",
   "id": "fd075392",
   "metadata": {},
   "source": [
    "---"
   ]
  },
  {
   "cell_type": "markdown",
   "id": "61d43cbf",
   "metadata": {},
   "source": [
    "다중분류모델 대략적 과정\n",
    "\n",
    "1. input :  x 입력값\n",
    "\n",
    "- gradient algorithem\n",
    "2. logit : y 원핫인코딩 변환, x linear model 선형변환\n",
    "3. softmax : 최대 우도에 따라 확률값 업데이트\n",
    "4. 확률값에 따른 y값 출력 \n",
    "4. loss : cross entropy  "
   ]
  },
  {
   "cell_type": "markdown",
   "id": "b438dd07",
   "metadata": {},
   "source": [
    "---"
   ]
  },
  {
   "cell_type": "markdown",
   "id": "9fe06945",
   "metadata": {},
   "source": [
    "### `-` multi_class_classfication"
   ]
  },
  {
   "cell_type": "markdown",
   "id": "a9416d72",
   "metadata": {},
   "source": [
    "다중 클래스 분류는 구별해야할 y의 값이 3개 이상의 분류문제를 말한다.\n",
    "\n",
    "input x는 k개의 가능한 이산 결과에 대한 분포이므로 다항 분포이다.\n",
    "\n",
    "$\\theta$^Tx는 반드시 0과 1사이가 아니다\n",
    "\n",
    "$\\theta$^Tx의 합은 무조건 1이 아니다\n",
    "\n",
    "다만 소프트 함수를 이용하여 $\\theta$^Tx를 양수인 확률벡터로 바꿔줄 것이고 이것의 합은 1이다."
   ]
  },
  {
   "cell_type": "markdown",
   "id": "3900b16b",
   "metadata": {},
   "source": [
    "---"
   ]
  },
  {
   "cell_type": "markdown",
   "id": "fed82d9f",
   "metadata": {},
   "source": [
    "`-` softmax function"
   ]
  },
  {
   "cell_type": "markdown",
   "id": "1b45751d",
   "metadata": {},
   "source": [
    "예시 : 3개의 k\n",
    "\n",
    "$$\n",
    "softmax(t_1,t_2,t_3) =\\begin{bmatrix} \\frac{exp(t_1)}{exp(t_1)+exp(t_2)+exp(t_3)} \\\\ \\frac{exp(t_2)}{exp(t_1)+exp(t_2)+exp(t_3)} \\\\ \\frac{exp(t_3)}{exp(t_1)+exp(t_2)+exp(t_3)}\\end{bmatrix}\n",
    "$$\n"
   ]
  },
  {
   "cell_type": "markdown",
   "id": "9b4cd774",
   "metadata": {},
   "source": [
    "- the vector t 는 logit이라고 불림\n",
    "logits = np.dot(X, W) + b\n",
    "\n",
    "- 또한 소프트맥스의 출력값은 nonngetive 하고 합은 1임\n"
   ]
  },
  {
   "cell_type": "markdown",
   "id": "5613794d",
   "metadata": {},
   "source": [
    "`-` loss function\n",
    "\n",
    "손실함수 : 머신러닝에서 모델이 나타내는 확률 분포와 데이터가 따르는 실제 확률 분포 사이의 차이를 나타내는 함수"
   ]
  },
  {
   "cell_type": "markdown",
   "id": "5071031e",
   "metadata": {},
   "source": [
    "- 음의 로그우도 $\\rightarrow$ 확률이 커질 수록 손실이 최소화\n",
    "- gradient를 수정해나가면서 손실을 최소화하는 쪽으로 나아감\n",
    "- 손실함수의 값이 작아질수록 모델의 성능이 향상, 정확한 예측\n",
    "- 과적합 문제"
   ]
  },
  {
   "cell_type": "markdown",
   "id": "89754af7",
   "metadata": {},
   "source": [
    "$$\n",
    "-log p(y|x,\\theta) = - log(\\frac{exp(t_y)}{\\sum_{i=1}^nexp(t_j)})\n",
    "$$"
   ]
  },
  {
   "cell_type": "markdown",
   "id": "bd6b1bd9",
   "metadata": {},
   "source": [
    "`-` the cross entropy function"
   ]
  },
  {
   "cell_type": "markdown",
   "id": "3b8d7e3a",
   "metadata": {},
   "source": [
    "$$\n",
    "H_p(q) = -\\sum_{x=i}^nq(y_i)logp(y_i)\n",
    "$$"
   ]
  },
  {
   "cell_type": "markdown",
   "id": "6f3b3cf6",
   "metadata": {},
   "source": [
    "`-` 이진분류의 크로스엔트로피"
   ]
  },
  {
   "cell_type": "code",
   "execution_count": 830,
   "id": "c9a3760d",
   "metadata": {
    "scrolled": true
   },
   "outputs": [
    {
     "data": {
      "text/plain": [
       "0.01005033585350145"
      ]
     },
     "execution_count": 830,
     "metadata": {},
     "output_type": "execute_result"
    }
   ],
   "source": [
    "y=1 # 0 -> x , 1-> o\n",
    "p=0.99\n",
    "-(y*np.log(p)+(1-y)*np.log(1-p))\n",
    "\n",
    "# 정답이 틀릴 경우 엔트로피의 증가"
   ]
  },
  {
   "cell_type": "markdown",
   "id": "3b33bdde",
   "metadata": {},
   "source": [
    "예측 모형은 실제 분포인 q 를 모르고, 모델링을 하여 q 분포를 예측하고자 하는 것이다. 예측 모델링을 통해 구한 분포를 p(x) 라고 해보자. 실제 분포인 q를 예측하는 p 분포를 만들었을 때, 이 때 cross-entropy 는 위와 같이 정의된다. "
   ]
  },
  {
   "cell_type": "markdown",
   "id": "d2a9404f",
   "metadata": {},
   "source": [
    "- 두 확률 분포가 서로 얼마나 다른지를 나타내는 정략적인 지표\n",
    "- 엔트로피를 줄이기 위한 파라미터를 구하는 것이 결국 음의 로그우도를 최소화하는 파라미터를 구하는 것과 동일하다."
   ]
  },
  {
   "cell_type": "markdown",
   "id": "66b4c719",
   "metadata": {},
   "source": [
    "---"
   ]
  },
  {
   "cell_type": "markdown",
   "id": "244e0173",
   "metadata": {},
   "source": [
    "`-` the gradient of the loss "
   ]
  },
  {
   "cell_type": "markdown",
   "id": "20c6a1f2",
   "metadata": {},
   "source": [
    "$$\n",
    "\\frac{\\partial}{\\partial \\theta_i}\\mathscr{l}(\\theta) =\n",
    "\\sum_{j=1}^n(\\phi_i^j - 1\\left\\{ y^j = i \\right\\}) \\cdot x^j\n",
    "$$"
   ]
  },
  {
   "cell_type": "markdown",
   "id": "99e9f614",
   "metadata": {},
   "source": [
    "- the cross entropy의 편미분은 로그-소프트맥스의 도함수를 이용하여 계산이 가능하다.따라서 simple gradient를 가짐\n",
    "- error만으로도 이미 gradient 값을 내고 있으니\n",
    "\n"
   ]
  },
  {
   "cell_type": "markdown",
   "id": "02ce4e3f",
   "metadata": {},
   "source": [
    "---"
   ]
  },
  {
   "cell_type": "markdown",
   "id": "73f1d154",
   "metadata": {},
   "source": [
    "`-` newton's method"
   ]
  },
  {
   "cell_type": "markdown",
   "id": "efb8af57",
   "metadata": {},
   "source": [
    "함수의 해를 근사하는 방법 $\\rightarrow$ 테일러전개"
   ]
  },
  {
   "cell_type": "markdown",
   "id": "289768ac",
   "metadata": {},
   "source": [
    "2차식을 예제로 테일러 전개\n",
    "\n",
    "$$\n",
    "f(x) = f(a)+f'(a)(x-a)\n",
    "$$\n",
    "\n",
    "f(x)가 0이 되도록 계속 업데이트\n",
    "\n",
    "$$\n",
    "f(a)+f'(a)(x-a) = 0 , \\\\\n",
    "x-a = \\frac{-f(a)}{f'(a)} \\rightarrow x_{t+1} = x_t - \\frac{f(x_t)}{f'(x_t)}\n",
    "$$"
   ]
  },
  {
   "cell_type": "markdown",
   "id": "aa91ae57",
   "metadata": {},
   "source": [
    "- 목적 함수의 최적화\n",
    "- 해가 여러개일 경우 문제\n",
    "- 미분이 가능해야함\n",
    "- 초기값 설정이 중요"
   ]
  },
  {
   "cell_type": "markdown",
   "id": "4a94da65",
   "metadata": {},
   "source": [
    "`-` 예시"
   ]
  },
  {
   "cell_type": "code",
   "execution_count": 1023,
   "id": "7a7b8c96",
   "metadata": {},
   "outputs": [
    {
     "data": {
      "text/plain": [
       "[<matplotlib.lines.Line2D at 0x17ee7e8e700>]"
      ]
     },
     "execution_count": 1023,
     "metadata": {},
     "output_type": "execute_result"
    },
    {
     "data": {
      "image/png": "[encoded data removed]",
      "text/plain": [
       "<Figure size 640x480 with 1 Axes>"
      ]
     },
     "metadata": {},
     "output_type": "display_data"
    }
   ],
   "source": [
    "# (x - 3) ** 2 + 2\n",
    "def f(x):\n",
    "    return (x - 1) **2  + 2\n",
    "\n",
    "def derivate(f): \n",
    "    h=0.0000000000001\n",
    "    return lambda x: (f(x+h)-f(x))/h \n",
    "\n",
    "x = np.linspace(-7, 7, 1000)\n",
    "y = f(x)\n",
    "plt.plot(x, y,color='blue')\n",
    "plt.scatter(-4, f(-4),color = 'red')\n",
    "\n",
    "x0 = -4\n",
    "y0 = f(x0)\n",
    "slope = 2 * (x0 - 1)  \n",
    "\n",
    "# 그래프 그리기\n",
    "plt.plot(x, y)\n",
    "plt.scatter(x0, y0, color='red', label='Point (4, f(4))')\n",
    "\n",
    "# 직선 그리기\n",
    "x_line = np.linspace(x0 - 2, x0 + 3, 100)\n",
    "y_line = slope * (x_line - x0) + y0\n",
    "plt.plot(x_line, y_line, color='green', label='Tangent Line')\n"
   ]
  },
  {
   "cell_type": "code",
   "execution_count": 931,
   "id": "f6552ac8",
   "metadata": {},
   "outputs": [
    {
     "data": {
      "text/plain": [
       "<matplotlib.collections.PathCollection at 0x17ee319c100>"
      ]
     },
     "execution_count": 931,
     "metadata": {},
     "output_type": "execute_result"
    },
    {
     "data": {
      "image/png": "[encoded data removed]",
      "text/plain": [
       "<Figure size 640x480 with 1 Axes>"
      ]
     },
     "metadata": {},
     "output_type": "display_data"
    }
   ],
   "source": [
    "t1 = -4-f(-4)/derivate(f)(-4)\n",
    "plt.plot(x, y)\n",
    "plt.scatter(-4, f(-4),color = 'red')\n",
    "plt.scatter(t1, f(t1),color = 'red')"
   ]
  },
  {
   "cell_type": "code",
   "execution_count": 932,
   "id": "3b42658f",
   "metadata": {},
   "outputs": [
    {
     "data": {
      "text/plain": [
       "<matplotlib.collections.PathCollection at 0x17ee3ca7eb0>"
      ]
     },
     "execution_count": 932,
     "metadata": {},
     "output_type": "execute_result"
    },
    {
     "data": {
      "image/png": "[encoded data removed]",
      "text/plain": [
       "<Figure size 640x480 with 1 Axes>"
      ]
     },
     "metadata": {},
     "output_type": "display_data"
    }
   ],
   "source": [
    "t2 = t1-f(t1)/derivate(f)(t1)\n",
    "plt.plot(x, y)\n",
    "plt.scatter(-4, f(-4),color = 'red')\n",
    "plt.scatter(t1, f(t1),color = 'red')\n",
    "plt.scatter(t2, f(t2),color = 'red')"
   ]
  },
  {
   "cell_type": "markdown",
   "id": "888eeffc",
   "metadata": {},
   "source": [
    "newton's method는 일반적으로 gradient descent보다 더 빠르게 수렴하고 적은 반복이 필요 "
   ]
  },
  {
   "cell_type": "markdown",
   "id": "ec8f4bca",
   "metadata": {},
   "source": [
    "`-` newton's method의 일반화\n",
    "- 다차원 설정에 대한 방법 뉴턴-랩슨\n",
    "- hessian"
   ]
  },
  {
   "cell_type": "markdown",
   "id": "da084a4e",
   "metadata": {},
   "source": [
    "Hessian matrix는 기본 bowl 형태의 함수를 더 볼록하거나 오목하게 만들어주는 변환이다"
   ]
  },
  {
   "cell_type": "markdown",
   "id": "42ab9c63",
   "metadata": {},
   "source": [
    "---"
   ]
  },
  {
   "cell_type": "code",
   "execution_count": 1020,
   "id": "2198db6e",
   "metadata": {},
   "outputs": [
    {
     "name": "stdout",
     "output_type": "stream",
     "text": [
      "Iteration: 100 Loss: 0.7398734321285094\n",
      "Iteration: 200 Loss: 0.6101398189027742\n",
      "Iteration: 300 Loss: 0.5296808025791824\n",
      "Iteration: 400 Loss: 0.47293129552752144\n",
      "Iteration: 500 Loss: 0.4297031514309079\n",
      "Iteration: 600 Loss: 0.395134080423439\n",
      "Iteration: 700 Loss: 0.3665680846339303\n",
      "Iteration: 800 Loss: 0.34240262524546\n",
      "Iteration: 900 Loss: 0.32159651606272\n",
      "Iteration: 1000 Loss: 0.30343432807501636\n",
      "Predictions: [0 1 1 2]\n"
     ]
    }
   ],
   "source": [
    "class SoftmaxRegression:\n",
    "    def __init__(self, learning_rate=0.1, num_iterations=1000):\n",
    "        self.learning_rate = learning_rate\n",
    "        self.num_iterations = num_iterations\n",
    "        self.re1 = []\n",
    "        self.re2 = []\n",
    "        self.re3 = []\n",
    "        self.re4 =[]\n",
    "\n",
    "    def softmax(self, logits):\n",
    "        exp_logits = np.exp(logits)\n",
    "        return exp_logits / np.sum(exp_logits, axis=1, keepdims=True)\n",
    "\n",
    "    def cross_entropy_loss(self, y_true, y_pred):\n",
    "        epsilon = 1e-15\n",
    "        y_pred = np.clip(y_pred, epsilon, 1 - epsilon)\n",
    "        loss = -np.mean(np.sum(y_true * np.log(y_pred), axis=1))\n",
    "        return loss\n",
    "\n",
    "    def fit(self, X, y):\n",
    "        num_samples, num_features = X.shape #4,2\n",
    "        num_classes = len(np.unique(y))\n",
    "\n",
    "        # 입력 데이터에 바이어스(절편) 열 추가\n",
    "        X = np.c_[X, np.ones(len(X))] # 4*3\n",
    "\n",
    "        # 클래스를 원-핫 인코딩으로 변환\n",
    "        y_one_hot = np.eye(num_classes)[y] # 4*3 true만 1\n",
    "\n",
    "        # 가중치와 편향 초기화\n",
    "        self.weights = np.zeros((num_features+1, num_classes)) #3*3\n",
    "# 기존 특성 +절편, 분류 k개 \n",
    "        for i in range(self.num_iterations):\n",
    "            # 선형 변환 계산\n",
    "            logits = np.dot(X, self.weights) # 4*3\n",
    "\n",
    "            # 소프트맥스 함수 적용\n",
    "            y_pred = self.softmax(logits) #4*3\n",
    "            self.re1.append(y_pred) # 첫 logits은 전부 0인 행렬\n",
    "\n",
    "            # 크로스 엔트로피 손실 계산\n",
    "            loss = self.cross_entropy_loss(y_one_hot, y_pred)\n",
    "            self.re2.append(loss)\n",
    "\n",
    "            # 가중치의 그래디언트 계산\n",
    "            error =  y_pred-y_one_hot# y_pred - y ,교차엔트로피\n",
    "            grad = (1 / num_samples) * np.dot(X.T, error)#3*4 # 4*3\n",
    "            self.re3.append(grad)\n",
    "\n",
    "            # 가중치 업데이트\n",
    "            self.weights -= self.learning_rate * grad\n",
    "\n",
    "\n",
    "            if (i+1) % 100 == 0:\n",
    "                print(\"Iteration:\", i+1, \"Loss:\", loss)\n",
    "\n",
    "    def predict(self, X):\n",
    "        # 입력 데이터에 바이어스(절편) 열 추가\n",
    "        X = np.c_[X, np.ones(len(X))]\n",
    "\n",
    "        # 선형 변환 계산\n",
    "        logits = np.dot(X, self.weights)\n",
    "\n",
    "        # 소프트맥스 함수 적용\n",
    "        y_pred = self.softmax(logits)\n",
    "\n",
    "        # 클래스 예측\n",
    "        y_pred_classes = np.argmax(y_pred, axis=1)\n",
    "\n",
    "        return y_pred_classes\n",
    "\n",
    "# 입력 데이터와 클래스 레이블\n",
    "X = np.array([[1, 2],\n",
    "              [2, 3],\n",
    "              [3, 4],\n",
    "              [4, 5]])\n",
    "y = np.array([0, 1, 1, 2])\n",
    "\n",
    "# Softmax 회귀 모델 생성 및 학습\n",
    "model = SoftmaxRegression(learning_rate=0.1, num_iterations=1000)\n",
    "model.fit(X, y)\n",
    "\n",
    "# 테스트 데이터 예측\n",
    "X_test = np.array([[1, 2],\n",
    "                   [2, 3],\n",
    "                   [3, 4],\n",
    "                  [4,5]])\n",
    "y_pred = model.predict(X_test)\n",
    "\n",
    "print(\"Predictions:\", y_pred)"
   ]
  },
  {
   "cell_type": "markdown",
   "id": "04dfa35c",
   "metadata": {},
   "source": [
    "`-` y_pred 값"
   ]
  },
  {
   "cell_type": "code",
   "execution_count": 1021,
   "id": "3027b9de",
   "metadata": {},
   "outputs": [
    {
     "data": {
      "image/png": "[encoded data removed]",
      "text/plain": [
       "<Figure size 640x480 with 1 Axes>"
      ]
     },
     "metadata": {},
     "output_type": "display_data"
    }
   ],
   "source": [
    "y_0 = [model.re1[i][0][0] for i in range(1000)]\n",
    "y_1 = [model.re1[i][1][1] for i in range(1000)]\n",
    "y_11 =[model.re1[i][2][1] for i in range(1000)]\n",
    "y_2 = [model.re1[i][3][2] for i in range(1000)]\n",
    "\n",
    "dct={'y_0':y_0,'y_1':y_1,'y_1.':y_11,'y_2':y_2}\n",
    "[plt.plot(v,label=i) for i,v in dct.items()]\n",
    "plt.legend()\n",
    "plt.show()"
   ]
  }
 ],
 "metadata": {
  "kernelspec": {
   "display_name": "Python 3 (ipykernel)",
   "language": "python",
   "name": "python3"
  },
  "language_info": {
   "codemirror_mode": {
    "name": "ipython",
    "version": 3
   },
   "file_extension": ".py",
   "mimetype": "text/x-python",
   "name": "python",
   "nbconvert_exporter": "python",
   "pygments_lexer": "ipython3",
   "version": "3.9.13"
  }
 },
 "nbformat": 4,
 "nbformat_minor": 5
}
